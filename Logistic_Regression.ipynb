{
  "nbformat": 4,
  "nbformat_minor": 0,
  "metadata": {
    "colab": {
      "name": "Logistic Regression.ipynb",
      "provenance": [],
      "authorship_tag": "ABX9TyP3Ly5c95L0NcZPgigC4qQ3",
      "include_colab_link": true
    },
    "kernelspec": {
      "name": "python3",
      "display_name": "Python 3"
    },
    "language_info": {
      "name": "python"
    }
  },
  "cells": [
    {
      "cell_type": "markdown",
      "metadata": {
        "id": "view-in-github",
        "colab_type": "text"
      },
      "source": [
        "<a href=\"https://colab.research.google.com/github/skdding3/Code-Practice/blob/main/Logistic_Regression.ipynb\" target=\"_parent\"><img src=\"https://colab.research.google.com/assets/colab-badge.svg\" alt=\"Open In Colab\"/></a>"
      ]
    },
    {
      "cell_type": "markdown",
      "metadata": {
        "id": "EcZ1MxzvdIca"
      },
      "source": [
        "#**Logistic Regression**\n"
      ]
    },
    {
      "cell_type": "markdown",
      "metadata": {
        "id": "0hJ5DZN8dcdL"
      },
      "source": [
        "- 선형 회귀 방식을 이용한 이진 분류 알고리즘\n",
        "- 분류 레이블 : 0 or 1 (성공/실패)\n",
        "- 0~1 범위를 예측 결과로 갖는 모델 필요 (타겟 변수 범주)\n",
        "- 가설 결과에 Sigmoid 함수 적용\n",
        "- Logistic, sigmoid 함수 (대표적인 Logistic 함수)\n",
        "- S자 모양의 함수"
      ]
    },
    {
      "cell_type": "code",
      "metadata": {
        "id": "X3Q0rcBicuNv"
      },
      "source": [
        "import numpy as np\n",
        "import matplotlib.pyplot as plt"
      ],
      "execution_count": null,
      "outputs": []
    },
    {
      "cell_type": "code",
      "metadata": {
        "id": "8aQgvBJ_jw6r"
      },
      "source": [
        "def sigmoid(z):\n",
        "    return  1/(1+np.exp(-z))"
      ],
      "execution_count": null,
      "outputs": []
    },
    {
      "cell_type": "code",
      "metadata": {
        "colab": {
          "base_uri": "https://localhost:8080/",
          "height": 428
        },
        "id": "-WR9K_QEjzOs",
        "outputId": "7961be82-0eed-46bf-aea0-8cc3ad449664"
      },
      "source": [
        "plt.figure(figsize=(10, 7))\n",
        "\n",
        "x = np.arange(-10, 10)\n",
        "y = sigmoid(x)\n",
        "\n",
        "plt.plot(x, y)  #sigmoid graph\n",
        "plt.show()"
      ],
      "execution_count": null,
      "outputs": [
        {
          "output_type": "display_data",
          "data": {
            "image/png": "[encoded data removed]",
            "text/plain": [
              "<Figure size 720x504 with 1 Axes>"
            ]
          },
          "metadata": {
            "tags": [],
            "needs_background": "light"
          }
        }
      ]
    },
    {
      "cell_type": "markdown",
      "metadata": {
        "id": "FObEeM80VaSV"
      },
      "source": [
        "# 랜덤수 분류"
      ]
    },
    {
      "cell_type": "code",
      "metadata": {
        "id": "Y1EKrzYrVZga"
      },
      "source": [
        "import pandas as pd\n",
        "import matplotlib.pyplot as plt;\n",
        "import numpy as np\n",
        "\n",
        "# 샘플 생성\n",
        "ra, rb = 30, 30\n",
        "m = ra + rb\n",
        "Xa = np.random.randint(-30,0, (ra, 2))\n",
        "Xb = np.random.randint(0,30, (rb, 2))\n",
        "x = np.concatenate((Xa, Xb), axis=0).astype(np.float32)/100"
      ],
      "execution_count": 7,
      "outputs": []
    },
    {
      "cell_type": "code",
      "metadata": {
        "colab": {
          "base_uri": "https://localhost:8080/",
          "height": 266
        },
        "id": "mAuLL-3rVoi6",
        "outputId": "f1841b95-ccb0-4781-c080-15340a10c024"
      },
      "source": [
        "y = np.zeros((m,), dtype=np.float32)\n",
        "y[rb:] = 1\n",
        "\n",
        "plt.plot(x[y==0][:,0],x[y==0][:,1], 'r1');\n",
        "plt.plot(x[y==1][:,0],x[y==1][:,1], 'b1');"
      ],
      "execution_count": 9,
      "outputs": [
        {
          "output_type": "display_data",
          "data": {
            "image/png": "[encoded data removed]",
            "text/plain": [
              "<Figure size 432x288 with 1 Axes>"
            ]
          },
          "metadata": {
            "tags": [],
            "needs_background": "light"
          }
        }
      ]
    },
    {
      "cell_type": "code",
      "metadata": {
        "colab": {
          "base_uri": "https://localhost:8080/"
        },
        "id": "gOh3A2BxVwW1",
        "outputId": "049685fc-8216-41b4-e649-31af01bc3632"
      },
      "source": [
        "from sklearn.linear_model import LogisticRegression\n",
        "from sklearn.metrics import accuracy_score\n",
        "\n",
        "lr_clf = LogisticRegression()  #Logistic Regression\n",
        "lr_clf.fit(x, y)\n",
        "predict = lr_clf.predict(x)\n",
        "\n",
        "accuracy_score(y, predict)  #정확도"
      ],
      "execution_count": 12,
      "outputs": [
        {
          "output_type": "execute_result",
          "data": {
            "text/plain": [
              "1.0"
            ]
          },
          "metadata": {
            "tags": []
          },
          "execution_count": 12
        }
      ]
    },
    {
      "cell_type": "code",
      "metadata": {
        "colab": {
          "base_uri": "https://localhost:8080/",
          "height": 266
        },
        "id": "3atEsR34V8Wz",
        "outputId": "6e46352c-6afa-43b9-9ead-893531fb0d9b"
      },
      "source": [
        "plt.plot(x[y==0][:,0],x[y==0][:,1], 'r1')\n",
        "plt.plot(x[y==1][:,0],x[y==1][:,1], 'b1')\n",
        "\n",
        "plt.plot(x[predict==0][:,0],x[predict==0][:,1], 'rs', alpha=0.5);\n",
        "plt.plot(x[predict==1][:,0],x[predict==1][:,1], 'bs', alpha=0.5);"
      ],
      "execution_count": 15,
      "outputs": [
        {
          "output_type": "display_data",
          "data": {
            "image/png": "[encoded data removed]",
            "text/plain": [
              "<Figure size 432x288 with 1 Axes>"
            ]
          },
          "metadata": {
            "tags": [],
            "needs_background": "light"
          }
        }
      ]
    },
    {
      "cell_type": "code",
      "metadata": {
        "id": "xMdYhNn5WI4Y"
      },
      "source": [
        ""
      ],
      "execution_count": null,
      "outputs": []
    }
  ]
}