{
  "nbformat": 4,
  "nbformat_minor": 0,
  "metadata": {
    "colab": {
      "name": "전역 변수_.ipynb",
      "provenance": [],
      "collapsed_sections": [
        "Yb2pGM1cFhuh",
        "Bsy9DCyJF-wr"
      ],
      "include_colab_link": true
    },
    "kernelspec": {
      "name": "python3",
      "display_name": "Python 3"
    },
    "language_info": {
      "name": "python"
    }
  },
  "cells": [
    {
      "cell_type": "markdown",
      "metadata": {
        "id": "view-in-github",
        "colab_type": "text"
      },
      "source": [
        "<a href=\"https://colab.research.google.com/github/skdding3/Code-Practice/blob/main/%EC%A0%84%EC%97%AD_%EB%B3%80%EC%88%98_.ipynb\" target=\"_parent\"><img src=\"https://colab.research.google.com/assets/colab-badge.svg\" alt=\"Open In Colab\"/></a>"
      ]
    },
    {
      "cell_type": "markdown",
      "metadata": {
        "id": "GYKx2mZvHNWN"
      },
      "source": [
        "전역변수는 가급적 사용하지 않는걸 추천"
      ]
    },
    {
      "cell_type": "markdown",
      "metadata": {
        "id": "Yb2pGM1cFhuh"
      },
      "source": [
        "# Global 함수\n",
        "\n",
        "* 함수가 몇 단계든 상관없이 global키워드를 사용하면 무조건 전역 변수를 사용하게 됨"
      ]
    },
    {
      "cell_type": "code",
      "metadata": {
        "id": "JDStSPdhDTul",
        "colab": {
          "base_uri": "https://localhost:8080/"
        },
        "outputId": "961f0ece-cfab-4c22-cdd4-3c14609737b4"
      },
      "source": [
        "x = 10\n",
        "\n",
        "def sun():\n",
        "  global x            # x를 전역변수로 사용\n",
        "  x = 10\n",
        "  print(x)\n",
        "\n",
        "sun()\n",
        "print(x)"
      ],
      "execution_count": 2,
      "outputs": [
        {
          "output_type": "stream",
          "text": [
            "10\n",
            "10\n"
          ],
          "name": "stdout"
        }
      ]
    },
    {
      "cell_type": "code",
      "metadata": {
        "id": "5b9p4_ikDsts",
        "colab": {
          "base_uri": "https://localhost:8080/"
        },
        "outputId": "919856ca-63ee-4721-cc76-4e1c303cf242"
      },
      "source": [
        "# 바깥쪽 함수의 지역 변수는 그 안에 속한 모든 함수에서 접근할 수 있음\n",
        "\n",
        "def print_hello():\n",
        "    hello = 'Hello, world!'    # 지역변수\n",
        "    def print_message():\n",
        "        print(hello)\n",
        "    print_message()\n",
        " \n",
        "print_hello()"
      ],
      "execution_count": 4,
      "outputs": [
        {
          "output_type": "stream",
          "text": [
            "Hello, world!\n"
          ],
          "name": "stdout"
        }
      ]
    },
    {
      "cell_type": "code",
      "metadata": {
        "id": "sP8qWoz9G48K",
        "colab": {
          "base_uri": "https://localhost:8080/"
        },
        "outputId": "bdde22e6-7f38-434d-8914-7ed5c2db739d"
      },
      "source": [
        "x = 1                               # 전역변수 x \n",
        "def A():\n",
        "    x = 10\n",
        "    def B():\n",
        "        x = 20\n",
        "        def C():\n",
        "            global x                \n",
        "            x = x + 30              # 여기서 x 는 1 \n",
        "            print(x)\n",
        "        C()\n",
        "    B()\n",
        " \n",
        "A()"
      ],
      "execution_count": 7,
      "outputs": [
        {
          "output_type": "stream",
          "text": [
            "31\n"
          ],
          "name": "stdout"
        }
      ]
    },
    {
      "cell_type": "markdown",
      "metadata": {
        "id": "Bsy9DCyJF-wr"
      },
      "source": [
        "# nonlocal 함수\n",
        "\n",
        "* 현재 함수의 지역 변수가 아니라는 뜻이며, 바깥쪽 제일 가까운 함수의 지역 변수를 사용\n",
        "\n",
        "\n"
      ]
    },
    {
      "cell_type": "code",
      "metadata": {
        "id": "Vv_FXe9VES_B",
        "colab": {
          "base_uri": "https://localhost:8080/"
        },
        "outputId": "3b7aad98-cb1b-43f9-bfd9-d2521bda584f"
      },
      "source": [
        "# 지역변수 변경하기\n",
        "\n",
        "def A():\n",
        "  x = 5     # A의 지역변수 x\n",
        "  def B():\n",
        "    x = 10   # B의 지역변수 x를 새로 만듬\n",
        "  B()  \n",
        "  print(x)\n",
        "  \n",
        "A()  "
      ],
      "execution_count": 8,
      "outputs": [
        {
          "output_type": "stream",
          "text": [
            "5\n"
          ],
          "name": "stdout"
        }
      ]
    },
    {
      "cell_type": "code",
      "metadata": {
        "id": "jScW2r7KFHC-",
        "colab": {
          "base_uri": "https://localhost:8080/"
        },
        "outputId": "00df7585-f075-4a19-e056-e10f24beee84"
      },
      "source": [
        "def A():\n",
        "  x = 5           # A의 지역변수 x\n",
        "  def B():\n",
        "    nonlocal x     # 현재 함수의 바깥쪽에 지역 변수 사용\n",
        "    x = 10         # A의 지역변수 x에 20할당.\n",
        "  B()  \n",
        "  print(x)\n",
        "  \n",
        "A() "
      ],
      "execution_count": 9,
      "outputs": [
        {
          "output_type": "stream",
          "text": [
            "10\n"
          ],
          "name": "stdout"
        }
      ]
    },
    {
      "cell_type": "code",
      "metadata": {
        "colab": {
          "base_uri": "https://localhost:8080/"
        },
        "id": "OOX8EQA9GQpB",
        "outputId": "2b07037b-2a93-4ab8-9d8f-278d4c1fc978"
      },
      "source": [
        "def A():\n",
        "    x = 10\n",
        "    y = 100\n",
        "    def B():\n",
        "        x = 20\n",
        "        def C():\n",
        "            nonlocal x             # 여기서 x 는 20\n",
        "            nonlocal y             # 여기서 y 는 100\n",
        "            x = x + 30\n",
        "            y = y + 300\n",
        "            print(x)\n",
        "            print(y)\n",
        "        C()\n",
        "    B()\n",
        " \n",
        "A()"
      ],
      "execution_count": 10,
      "outputs": [
        {
          "output_type": "stream",
          "text": [
            "50\n",
            "400\n"
          ],
          "name": "stdout"
        }
      ]
    },
    {
      "cell_type": "markdown",
      "metadata": {
        "id": "xAOCUyuOHpNf"
      },
      "source": [
        "# 클로저\n",
        "\n",
        "* 함수를 둘러싼 환경(지역변수, 코드 등)을 계속 유지하다가, 함수를 호출할 때 다시 꺼내어 사용하는 함수\n",
        "* 지역변수와 코드를 묶어서 사용하고 싶을 떄 활용\n",
        "* 데이터를 숨기고 싶을 때 사용함."
      ]
    },
    {
      "cell_type": "code",
      "metadata": {
        "colab": {
          "base_uri": "https://localhost:8080/"
        },
        "id": "T3CzvSdEHrgJ",
        "outputId": "5c09a9d6-3f0e-4f38-a230-cb688aebedc0"
      },
      "source": [
        "def calc():\n",
        "    a = 3\n",
        "    b = 5\n",
        "    def mul_add(x):\n",
        "        return a * x + b    # 함수 바깥쪽에 있는 지역 변수 a, b를 사용하여 계산\n",
        "    return mul_add          # mul_add 함수를 반환\n",
        " \n",
        "c = calc()\n",
        "print(c(1), c(2), c(3), c(4), c(5))"
      ],
      "execution_count": 11,
      "outputs": [
        {
          "output_type": "stream",
          "text": [
            "8 11 14 17 20\n"
          ],
          "name": "stdout"
        }
      ]
    },
    {
      "cell_type": "code",
      "metadata": {
        "id": "d7Pev47SIlgr",
        "colab": {
          "base_uri": "https://localhost:8080/"
        },
        "outputId": "ec1a8ccc-4739-48f5-ad32-c1973524aab5"
      },
      "source": [
        "# Lambda로 클로저 만들기\n",
        "\n",
        "def calc():\n",
        "    a = 3\n",
        "    b = 5\n",
        "    return lambda x: a * x + b    # 람다 표현식을 반환\n",
        " \n",
        "c = calc()\n",
        "print(c(1), c(2), c(3), c(4), c(5))"
      ],
      "execution_count": 12,
      "outputs": [
        {
          "output_type": "stream",
          "text": [
            "8 11 14 17 20\n"
          ],
          "name": "stdout"
        }
      ]
    },
    {
      "cell_type": "code",
      "metadata": {
        "colab": {
          "base_uri": "https://localhost:8080/"
        },
        "id": "OalP4eNHI48c",
        "outputId": "5eb744d1-2726-4cf3-b8cf-bea1235616ba"
      },
      "source": [
        "# 클로저의 지역 변수 변경하기 -> nonlocal 사용하기\n",
        "\n",
        "def calc():\n",
        "    a = 3\n",
        "    b = 5\n",
        "    total = 0\n",
        "    def mul_add(x):\n",
        "        nonlocal total\n",
        "        total = total + a * x + b\n",
        "        print(total)\n",
        "    return mul_add\n",
        " \n",
        "c = calc()\n",
        "c(1)\n",
        "c(2)\n",
        "c(3)"
      ],
      "execution_count": 13,
      "outputs": [
        {
          "output_type": "stream",
          "text": [
            "8\n",
            "19\n",
            "33\n"
          ],
          "name": "stdout"
        }
      ]
    }
  ]
}