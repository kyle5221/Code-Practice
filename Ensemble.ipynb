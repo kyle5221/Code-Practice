{
  "nbformat": 4,
  "nbformat_minor": 0,
  "metadata": {
    "colab": {
      "name": "Ensemble.ipynb",
      "provenance": [],
      "authorship_tag": "ABX9TyNSXFJTNgye9AxuzT36LrR8",
      "include_colab_link": true
    },
    "kernelspec": {
      "name": "python3",
      "display_name": "Python 3"
    },
    "language_info": {
      "name": "python"
    }
  },
  "cells": [
    {
      "cell_type": "markdown",
      "metadata": {
        "id": "view-in-github",
        "colab_type": "text"
      },
      "source": [
        "<a href=\"https://colab.research.google.com/github/skdding3/Code-Practice/blob/main/Ensemble.ipynb\" target=\"_parent\"><img src=\"https://colab.research.google.com/assets/colab-badge.svg\" alt=\"Open In Colab\"/></a>"
      ]
    },
    {
      "cell_type": "markdown",
      "metadata": {
        "id": "ftOns1dTc3O3"
      },
      "source": [
        "##앙상블(Ensemble)\n",
        "머신러닝 앙상블 -> 여러개의 머신러닝 모델을 이용해 최적의 답을 찾아내는 기법\n",
        "\n",
        "여러 모델을 이용하여 데이터를 학습하고, \n",
        "모든 모델의 예측결과를 평균하여 예측 \n",
        "\n",
        "##앙상블 기법의 종류\n",
        "\n",
        "* 보팅 (Voting): 투표를 통해 결과 도출\n",
        "* 배깅 (Bagging): 샘플 중복 생성을 통해 결과 도출\n",
        "* 부스팅 (Boosting): 이전 오차를 보완하면서 가중치 부여\n",
        "* 스태킹 (Stacking): 여러 모델을 기반으로 예측된 결과를 통해 meta 모델이 다시 한번 예측"
      ]
    },
    {
      "cell_type": "code",
      "metadata": {
        "id": "eciWEqFocyEV"
      },
      "source": [
        ""
      ],
      "execution_count": null,
      "outputs": []
    }
  ]
}