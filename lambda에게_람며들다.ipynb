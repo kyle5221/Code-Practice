{
  "nbformat": 4,
  "nbformat_minor": 0,
  "metadata": {
    "colab": {
      "name": "lambda에게 람며들다.ipynb",
      "provenance": [],
      "collapsed_sections": [
        "CXymAwJWml8k",
        "ZMpMlKhio9zi",
        "cI9GtSGp3-km",
        "tsWHE-3B6hck"
      ],
      "include_colab_link": true
    },
    "kernelspec": {
      "name": "python3",
      "display_name": "Python 3"
    },
    "language_info": {
      "name": "python"
    }
  },
  "cells": [
    {
      "cell_type": "markdown",
      "metadata": {
        "id": "view-in-github",
        "colab_type": "text"
      },
      "source": [
        "<a href=\"https://colab.research.google.com/github/skdding3/Code-Practice/blob/main/lambda%EC%97%90%EA%B2%8C_%EB%9E%8C%EB%A9%B0%EB%93%A4%EB%8B%A4.ipynb\" target=\"_parent\"><img src=\"https://colab.research.google.com/assets/colab-badge.svg\" alt=\"Open In Colab\"/></a>"
      ]
    },
    {
      "cell_type": "markdown",
      "metadata": {
        "id": "CXymAwJWml8k"
      },
      "source": [
        "# lambda 함수 - 한 줄 for문 느낌\n",
        "\n",
        "\n",
        "*   익명함수\n",
        "*   단순한 정도 일 때 쓰면 편리함.\n",
        "*   너무 복잡하면 차라리 for문 사용 권장.\n",
        "*   elif 사용 불가\n",
        "*   식1 / if 조건문 / else / 식2\n",
        "*   (식1 / if 조건문) / else / (식2 / if 조건문) / else / 식3 \n",
        "\n",
        "\n"
      ]
    },
    {
      "cell_type": "code",
      "metadata": {
        "colab": {
          "base_uri": "https://localhost:8080/"
        },
        "id": "pjf8KZdnm3Nf",
        "outputId": "a6ee59da-2fec-4b06-a422-450c3b4361bd"
      },
      "source": [
        "# 일반적인 함수 만들기 \n",
        "def sun(x, y):\n",
        "  return x + y\n",
        "\n",
        "sun(3,2)"
      ],
      "execution_count": 1,
      "outputs": [
        {
          "output_type": "execute_result",
          "data": {
            "text/plain": [
              "5"
            ]
          },
          "metadata": {
            "tags": []
          },
          "execution_count": 1
        }
      ]
    },
    {
      "cell_type": "code",
      "metadata": {
        "colab": {
          "base_uri": "https://localhost:8080/"
        },
        "id": "3LgVfwRAm-nu",
        "outputId": "4f109cf9-fea7-4455-80e7-dddf0aa76f4d"
      },
      "source": [
        "# 람다 형식으로 만들기\n",
        "(lambda x,y:x+y)(3,2)"
      ],
      "execution_count": 2,
      "outputs": [
        {
          "output_type": "execute_result",
          "data": {
            "text/plain": [
              "5"
            ]
          },
          "metadata": {
            "tags": []
          },
          "execution_count": 2
        }
      ]
    },
    {
      "cell_type": "code",
      "metadata": {
        "colab": {
          "base_uri": "https://localhost:8080/"
        },
        "id": "Lhlow5giqrBT",
        "outputId": "dd3f8130-afac-4b1f-d2cc-a55848bd4a53"
      },
      "source": [
        "a = [2, 4, 6, 8, 10, 12, 14, 16, 18, 20]\n",
        "\n",
        "# 나머지가 0이면 str()이고, 그렇지 않으면 일반 x다 ## ex)3의 배수처럼 작용\n",
        "list(map(lambda x: str(x) if x % 3 == 0 else x, a)) "
      ],
      "execution_count": 6,
      "outputs": [
        {
          "output_type": "execute_result",
          "data": {
            "text/plain": [
              "[2, 4, '6', 8, 10, '12', 14, 16, '18', 20]"
            ]
          },
          "metadata": {
            "tags": []
          },
          "execution_count": 6
        }
      ]
    },
    {
      "cell_type": "markdown",
      "metadata": {
        "id": "ZMpMlKhio9zi"
      },
      "source": [
        "# map 함수\n",
        "\n",
        "*   여러개의 데이터를 한 번에 다른 형태롤 변환하기 위해서 사용\n",
        "\n",
        "*   map의 리턴 값은 map object이므로 list나 tupel같은 다른 타입으로 바꿔서 사용\n",
        "\n",
        "*   map(함수,리스트)\n",
        "\n",
        "\n",
        "\n"
      ]
    },
    {
      "cell_type": "code",
      "metadata": {
        "colab": {
          "base_uri": "https://localhost:8080/"
        },
        "id": "zdcD1BK_nMox",
        "outputId": "6bb5a1ae-f393-4550-c96a-27c7d9b09c00"
      },
      "source": [
        "# map함수와 lambda함수의 혼합\n",
        "# map object로 출력 되기 때문에 앞에 list\n",
        "list(map(lambda x:x**4,range(6)))    #x 난수 , range 범위 출력"
      ],
      "execution_count": 11,
      "outputs": [
        {
          "output_type": "execute_result",
          "data": {
            "text/plain": [
              "[0, 1, 16, 81, 256, 625]"
            ]
          },
          "metadata": {
            "tags": []
          },
          "execution_count": 11
        }
      ]
    },
    {
      "cell_type": "code",
      "metadata": {
        "colab": {
          "base_uri": "https://localhost:8080/"
        },
        "id": "dvi7m6LnsOym",
        "outputId": "537bf01d-a23d-4397-8146-02ee5932a1b9"
      },
      "source": [
        "# 문자열 int 변환\n",
        "# 번외 split 함수\n",
        "\n",
        "a = [\"12\",\"34\",\"567\",\"8910\"]\n",
        "a = list(map(int, a))\n",
        "a"
      ],
      "execution_count": 12,
      "outputs": [
        {
          "output_type": "execute_result",
          "data": {
            "text/plain": [
              "[12, 34, 567, 8910]"
            ]
          },
          "metadata": {
            "tags": []
          },
          "execution_count": 12
        }
      ]
    },
    {
      "cell_type": "code",
      "metadata": {
        "colab": {
          "base_uri": "https://localhost:8080/"
        },
        "id": "aihGkbOrtRgi",
        "outputId": "219c36d6-358f-4420-e743-f6981618e0de"
      },
      "source": [
        "# add 1은 -> 함수를 더한다 , target -> 지정\n",
        "\n",
        "def add_1(n):\n",
        "      return n + 1\n",
        "\n",
        "target = [1, 2, 3, 4, 5]\n",
        "\n",
        "result = map(add_1, target)\n",
        "\n",
        "print(list(result)) "
      ],
      "execution_count": 13,
      "outputs": [
        {
          "output_type": "stream",
          "text": [
            "[2, 3, 4, 5, 6]\n"
          ],
          "name": "stdout"
        }
      ]
    },
    {
      "cell_type": "markdown",
      "metadata": {
        "id": "cI9GtSGp3-km"
      },
      "source": [
        "# filter 함수\n",
        "\n",
        "* 반복 가능한 객체에서 특정 조건에 맞는 요소만 가져오는데,\n",
        "  filter에 지정한 함수의 반환값이 True일 때만 해당 요소를 가져옴"
      ]
    },
    {
      "cell_type": "code",
      "metadata": {
        "colab": {
          "base_uri": "https://localhost:8080/"
        },
        "id": "Ag7RYbtZ399u",
        "outputId": "42bad7b2-ab50-4247-ba01-4cbc5e68aee4"
      },
      "source": [
        "# filter는 x > 5, x < 10의 결과가 참인 요소만 가져오고 거짓인 요소는 버림\n",
        "\n",
        "def f(x):\n",
        "   return x > 5 and x < 10\n",
        "\n",
        "a = [8, 3, 2, 10, 15, 7, 1, 9, 0, 11]\n",
        "\n",
        "list(filter(f, a))"
      ],
      "execution_count": 14,
      "outputs": [
        {
          "output_type": "execute_result",
          "data": {
            "text/plain": [
              "[8, 7, 9]"
            ]
          },
          "metadata": {
            "tags": []
          },
          "execution_count": 14
        }
      ]
    },
    {
      "cell_type": "code",
      "metadata": {
        "colab": {
          "base_uri": "https://localhost:8080/"
        },
        "id": "HnoFqsDn59qh",
        "outputId": "98613c5f-1083-4fdb-d529-bb1dc98ef626"
      },
      "source": [
        "a = [8, 3, 2, 10, 15, 7, 1, 9, 0, 11]\n",
        "\n",
        "list(filter(lambda x: x > 5 and x < 10, a))"
      ],
      "execution_count": 15,
      "outputs": [
        {
          "output_type": "execute_result",
          "data": {
            "text/plain": [
              "[8, 7, 9]"
            ]
          },
          "metadata": {
            "tags": []
          },
          "execution_count": 15
        }
      ]
    },
    {
      "cell_type": "code",
      "metadata": {
        "colab": {
          "base_uri": "https://localhost:8080/"
        },
        "id": "fwCLpJ9E9C10",
        "outputId": "eeee955a-7d26-43a0-a277-0833c0e75f2d"
      },
      "source": [
        "a = [8, 3, 2, 10, 15, 7, 1, 9, 0, 11]\n",
        "\n",
        "[i for i in a if 5 < i < 10]"
      ],
      "execution_count": 16,
      "outputs": [
        {
          "output_type": "execute_result",
          "data": {
            "text/plain": [
              "[8, 7, 9]"
            ]
          },
          "metadata": {
            "tags": []
          },
          "execution_count": 16
        }
      ]
    },
    {
      "cell_type": "markdown",
      "metadata": {
        "id": "tsWHE-3B6hck"
      },
      "source": [
        "# reduce\n",
        "\n",
        "* 반복가능한 객체의 각 요소를 지정된 함수로 처리한 뒤, 이전 결과와 누적해서 반환하는 함수\n",
        "* 파이썬3부터 내장 함수가 아님. functools 모듈에서 가져와야함"
      ]
    },
    {
      "cell_type": "code",
      "metadata": {
        "colab": {
          "base_uri": "https://localhost:8080/"
        },
        "id": "8tPz--Ch6jle",
        "outputId": "7349f54d-6fdf-4895-c629-d44b85f6dbbe"
      },
      "source": [
        "# 누적으로 더하기\n",
        "\n",
        "from functools import reduce\n",
        "\n",
        "def f(x, y):\n",
        "  return x + y\n",
        "\n",
        "a = [1, 2, 3, 4, 5]\n",
        "\n",
        "reduce(f, a)"
      ],
      "execution_count": 17,
      "outputs": [
        {
          "output_type": "execute_result",
          "data": {
            "text/plain": [
              "15"
            ]
          },
          "metadata": {
            "tags": []
          },
          "execution_count": 17
        }
      ]
    },
    {
      "cell_type": "code",
      "metadata": {
        "colab": {
          "base_uri": "https://localhost:8080/"
        },
        "id": "ux_fwYx-7q9X",
        "outputId": "92eb42a1-8d6b-42cd-9e2d-ecc472a8e49b"
      },
      "source": [
        "# 람다가 좀더 깔끔하고 수월하게 사용가능\n",
        "\n",
        "a = [1, 2, 3, 4, 5]\n",
        "\n",
        "reduce(lambda x, y: x + y, a)"
      ],
      "execution_count": null,
      "outputs": [
        {
          "output_type": "execute_result",
          "data": {
            "text/plain": [
              "15"
            ]
          },
          "metadata": {
            "tags": []
          },
          "execution_count": 5
        }
      ]
    },
    {
      "cell_type": "code",
      "metadata": {
        "colab": {
          "base_uri": "https://localhost:8080/"
        },
        "id": "NhCCcNkE9rtl",
        "outputId": "af357d3c-f55f-405a-fb21-1ad1a0a72fdc"
      },
      "source": [
        "a = [1, 2, 3, 4, 5]\n",
        "x = a[0]\n",
        "for i in range(len(a) - 1):\n",
        "  x = x + a[i + 1]\n",
        "\n",
        "x"
      ],
      "execution_count": null,
      "outputs": [
        {
          "output_type": "execute_result",
          "data": {
            "text/plain": [
              "15"
            ]
          },
          "metadata": {
            "tags": []
          },
          "execution_count": 9
        }
      ]
    }
  ]
}