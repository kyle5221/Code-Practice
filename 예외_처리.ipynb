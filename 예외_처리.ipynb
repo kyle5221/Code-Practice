{
  "nbformat": 4,
  "nbformat_minor": 0,
  "metadata": {
    "colab": {
      "name": "예외 처리.ipynb",
      "provenance": [],
      "collapsed_sections": [
        "n5cidBW_LaSV",
        "RjLoehMNP2ah",
        "3N-pgGeDQxAN",
        "N_x0pH3FW8Ks"
      ],
      "include_colab_link": true
    },
    "kernelspec": {
      "name": "python3",
      "display_name": "Python 3"
    },
    "language_info": {
      "name": "python"
    }
  },
  "cells": [
    {
      "cell_type": "markdown",
      "metadata": {
        "id": "view-in-github",
        "colab_type": "text"
      },
      "source": [
        "<a href=\"https://colab.research.google.com/github/skdding3/Code-Practice/blob/main/%EC%98%88%EC%99%B8_%EC%B2%98%EB%A6%AC.ipynb\" target=\"_parent\"><img src=\"https://colab.research.google.com/assets/colab-badge.svg\" alt=\"Open In Colab\"/></a>"
      ]
    },
    {
      "cell_type": "markdown",
      "metadata": {
        "id": "j8Z2AsxKKttq"
      },
      "source": [
        "# 예외 처리\n",
        "\n",
        "* 예외(exception)란 코드를 실행하는 중에 발생한 에러"
      ]
    },
    {
      "cell_type": "markdown",
      "metadata": {
        "id": "n5cidBW_LaSV"
      },
      "source": [
        "# try, except 사용하기\n",
        "\n",
        "\n",
        "\n",
        "```\n",
        "try:\n",
        "    실행할 코드\n",
        "except 오류코드:\n",
        "    예외가 발생했을 때 처리하는 코드\n",
        "```\n",
        "\n"
      ]
    },
    {
      "cell_type": "code",
      "metadata": {
        "id": "ObSYeUo_LWcf",
        "colab": {
          "base_uri": "https://localhost:8080/"
        },
        "outputId": "8b98fdcf-7dcb-43b0-f9a9-cacdba3769e2"
      },
      "source": [
        "try:\n",
        "    x = int(input('나눌 숫자를 입력하세요: '))\n",
        "    y = 10 / x\n",
        "    print(y)\n",
        "except ZeroDivisionError:                                           # 예외(에러)가 발생했을 때 실행됨\n",
        "    print('예외가 발생했습니다.')"
      ],
      "execution_count": 1,
      "outputs": [
        {
          "output_type": "stream",
          "text": [
            "나눌 숫자를 입력하세요: 2\n",
            "5.0\n"
          ],
          "name": "stdout"
        }
      ]
    },
    {
      "cell_type": "markdown",
      "metadata": {
        "id": "RjLoehMNP2ah"
      },
      "source": [
        "# else, finally 사용하기\n",
        "\n",
        "* finally는 except와 else 생략할 수 있음 \n",
        "\n",
        "\n",
        "```\n",
        "try:\n",
        "    실행할 코드\n",
        "except:\n",
        "    예외가 발생했을 때 처리하는 코드\n",
        "else:\n",
        "    예외가 발생하지 않았을 때 실행할 코드\n",
        "finally:\n",
        "    예외 발생 여부와 상관없이 항상 실행할 코드\n",
        "```\n",
        "\n"
      ]
    },
    {
      "cell_type": "code",
      "metadata": {
        "colab": {
          "base_uri": "https://localhost:8080/"
        },
        "id": "lquoJb2_Qa_q",
        "outputId": "9026a234-530d-4aa4-8cd6-e38814ee06cb"
      },
      "source": [
        "try:\n",
        "    x = int(input('나눌 숫자를 입력하세요: '))\n",
        "    y = 10 / x\n",
        "except ZeroDivisionError:    # 숫자를 0으로 나눠서 에러가 발생했을 때 실행됨\n",
        "    print('숫자를 0으로 나눌 수 없습니다.')\n",
        "else:                        # try의 코드에서 예외가 발생하지 않았을 때 실행됨\n",
        "    print(y)\n",
        "finally:                     # 예외 발생 여부와 상관없이 항상 실행됨\n",
        "    print('코드 실행이 끝났습니다.')"
      ],
      "execution_count": 2,
      "outputs": [
        {
          "output_type": "stream",
          "text": [
            "나눌 숫자를 입력하세요: 0\n",
            "숫자를 0으로 나눌 수 없습니다.\n",
            "코드 실행이 끝났습니다.\n"
          ],
          "name": "stdout"
        }
      ]
    },
    {
      "cell_type": "markdown",
      "metadata": {
        "id": "3N-pgGeDQxAN"
      },
      "source": [
        "# 예외 발생시키기\n",
        "\n",
        "\n",
        "\n",
        "```\n",
        "raise\n",
        "```\n",
        "\n"
      ]
    },
    {
      "cell_type": "code",
      "metadata": {
        "id": "ud_CR93UQ7Fe",
        "colab": {
          "base_uri": "https://localhost:8080/"
        },
        "outputId": "02a7e1c5-12c5-42a2-e733-4afd09371ba6"
      },
      "source": [
        "try:\n",
        "    x = int(input('3의 배수를 입력하세요: '))\n",
        "    if x % 3 != 0:                                 # x가 3의 배수가 아니면\n",
        "        raise Exception('3의 배수가 아닙니다.')    # 예외를 발생시킴\n",
        "    print(x)\n",
        "except Exception as e:                             # 예외가 발생했을 때 실행됨\n",
        "    print('예외가 발생했습니다.', e)"
      ],
      "execution_count": 3,
      "outputs": [
        {
          "output_type": "stream",
          "text": [
            "3의 배수를 입력하세요: 6\n",
            "6\n"
          ],
          "name": "stdout"
        }
      ]
    },
    {
      "cell_type": "code",
      "metadata": {
        "id": "kEvVzlmEU_IL",
        "colab": {
          "base_uri": "https://localhost:8080/"
        },
        "outputId": "9e97d19e-2c43-458c-ec35-433b1dcc7bfe"
      },
      "source": [
        "# 다음은 함수 안에서 raise를 사용하지만 함수 안에는 try except가 없는 상태\n",
        "\n",
        "def three_multiple():\n",
        "    x = int(input('3의 배수를 입력하세요: '))\n",
        "    if x % 3 != 0:                                 # x가 3의 배수가 아니면\n",
        "        raise Exception('3의 배수가 아닙니다.')    # 예외를 발생시킴\n",
        "    print(x)                                       # 현재 함수 안에는 except가 없으므로\n",
        "                                                   # 예외를 상위 코드 블록으로 넘김\n",
        " \n",
        "try:\n",
        "    three_multiple()\n",
        "except Exception as e:                             # 하위 코드 블록에서 예외가 발생해도 실행됨\n",
        "    print('예외가 발생했습니다.', e)"
      ],
      "execution_count": 4,
      "outputs": [
        {
          "output_type": "stream",
          "text": [
            "3의 배수를 입력하세요: 3\n",
            "3\n"
          ],
          "name": "stdout"
        }
      ]
    },
    {
      "cell_type": "code",
      "metadata": {
        "id": "Hh32iSBKWNFW",
        "colab": {
          "base_uri": "https://localhost:8080/"
        },
        "outputId": "13a82ae0-ac06-4d73-ef55-7be934be6f6c"
      },
      "source": [
        "def three_multiple():\n",
        "    try:\n",
        "        x = int(input('3의 배수를 입력하세요: '))\n",
        "        if x % 3 != 0:                                 # x가 3의 배수가 아니면\n",
        "            raise Exception('3의 배수가 아닙니다.')    # 예외를 발생시킴\n",
        "        print(x)\n",
        "    except Exception as e:                             # 함수 안에서 예외를 처리함\n",
        "        print('three_multiple 함수에서 예외가 발생했습니다.', e)\n",
        "        raise    # raise로 현재 예외를 다시 발생시켜서 상위 코드 블록으로 넘김\n",
        " \n",
        "try:\n",
        "    three_multiple()\n",
        "except Exception as e:                                 # 하위 코드 블록에서 예외가 발생해도 실행됨\n",
        "    print('스크립트 파일에서 예외가 발생했습니다.', e)"
      ],
      "execution_count": 5,
      "outputs": [
        {
          "output_type": "stream",
          "text": [
            "3의 배수를 입력하세요: 9\n",
            "9\n"
          ],
          "name": "stdout"
        }
      ]
    },
    {
      "cell_type": "markdown",
      "metadata": {
        "id": "N_x0pH3FW8Ks"
      },
      "source": [
        "# 예외 만들기 \n",
        "\n",
        "* 나중에 하기 "
      ]
    },
    {
      "cell_type": "code",
      "metadata": {
        "id": "GzajbbeDXB-h"
      },
      "source": [
        ""
      ],
      "execution_count": 5,
      "outputs": []
    }
  ]
}